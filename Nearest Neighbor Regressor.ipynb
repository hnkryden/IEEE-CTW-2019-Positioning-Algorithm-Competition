{
 "cells": [
  {
   "cell_type": "code",
   "execution_count": 1,
   "metadata": {
    "collapsed": true
   },
   "outputs": [],
   "source": [
    "import numpy as np\n",
    "import hdf5storage\n",
    "from sklearn.model_selection import train_test_split\n",
    "from sklearn.neighbors import KNeighborsRegressor\n",
    "from sklearn.model_selection import cross_validate\n",
    "from sklearn.metrics import make_scorer\n",
    "from sklearn.model_selection import ShuffleSplit\n",
    "import matplotlib.pyplot as plt"
   ]
  },
  {
   "cell_type": "code",
   "execution_count": 2,
   "metadata": {
    "collapsed": true
   },
   "outputs": [],
   "source": [
    "def true_dist(y_true, y_pred):    \n",
    "    return (np.sqrt(np.square(np.abs(y_pred[:,0]-y_true[:,0]))+\n",
    "                    np.square(np.abs(y_pred[:,1]-y_true[:,1]))+\n",
    "                    np.square(np.abs(y_pred[:,2]-y_true[:,2]))))"
   ]
  },
  {
   "cell_type": "code",
   "execution_count": 3,
   "metadata": {
    "collapsed": true
   },
   "outputs": [],
   "source": [
    "Data_Foldername = './1_Measured_Data'\n",
    "Meas_Comb_h =    \"%s/h_Estimated_CTW_Train.mat\" % (Data_Foldername)\n",
    "Meas_Comb_r =    \"%s/r_Position_CTW_Train.mat\" % (Data_Foldername)\n",
    "\n",
    "h_Estimated = hdf5storage.loadmat(Meas_Comb_h)['h_Estimated']\n",
    "target_pos  = hdf5storage.loadmat(Meas_Comb_r)['r_Position']"
   ]
  },
  {
   "cell_type": "code",
   "execution_count": 4,
   "metadata": {},
   "outputs": [],
   "source": [
    "X = np.abs(h_Estimated)\n",
    "targetPosCluster = target_pos\n",
    "X = np.reshape(X,newshape=(X.shape[0],X.shape[1]*X.shape[2]))\n",
    "X_train, X_test, y_train, y_test = train_test_split(\n",
    "    X, targetPosCluster, test_size=0.1, random_state=0)"
   ]
  },
  {
   "cell_type": "code",
   "execution_count": 5,
   "metadata": {},
   "outputs": [],
   "source": [
    "neigh = KNeighborsRegressor(n_neighbors=1,p=1)\n",
    "neigh.fit(X_train, y_train)\n",
    "y_pred = neigh.predict(X_test)\n",
    "diff = true_dist(y_pred, y_test)"
   ]
  },
  {
   "cell_type": "code",
   "execution_count": 6,
   "metadata": {},
   "outputs": [
    {
     "name": "stdout",
     "output_type": "stream",
     "text": [
      "RMSE = 0.161 \n",
      "Average error = 0.024 m\n"
     ]
    }
   ],
   "source": [
    "rmse = np.sqrt(np.mean(diff**2))\n",
    "print(\"RMSE = %.3f \" % rmse)\n",
    "print(\"Average error = %.3f m\" % np.mean(diff))"
   ]
  },
  {
   "cell_type": "code",
   "execution_count": 7,
   "metadata": {},
   "outputs": [
    {
     "data": {
      "image/png": "[encoded data removed]",
      "text/plain": [
       "<Figure size 576x432 with 1 Axes>"
      ]
     },
     "metadata": {},
     "output_type": "display_data"
    }
   ],
   "source": [
    "%matplotlib inline\n",
    "plt.figure(figsize=(8,6))\n",
    "plt.hist(diff,bins=100)\n",
    "plt.xlim([0,3])\n",
    "plt.xlabel('Distance Error [m]')\n",
    "plt.ylabel('Number of occurences')\n",
    "plt.savefig('distance_error')\n"
   ]
  },
  {
   "cell_type": "code",
   "execution_count": 8,
   "metadata": {},
   "outputs": [
    {
     "name": "stdout",
     "output_type": "stream",
     "text": [
      "millimeter precision = 1534 of 1749 samples,  87%\n",
      "centimeter precision = 1577 of 1749 samples,  90%\n",
      "decimeter  precision = 1683 of 1749 samples,  96%\n",
      "meter      precision = 1736 of 1749 samples,  99%\n",
      "10 meter   precision = 1749 of 1749 samples, 100%\n"
     ]
    }
   ],
   "source": [
    "mmPrecision  = np.count_nonzero(diff < 0.001)\n",
    "cmPrecision  = np.count_nonzero(diff < 0.01)\n",
    "dmPrecision  = np.count_nonzero(diff < 0.1)\n",
    "mPrecision   = np.count_nonzero(diff < 1)\n",
    "m10Precision = np.count_nonzero(diff < 10)\n",
    "testSamples = diff.shape[0]\n",
    "\n",
    "print(\"millimeter precision = %d of %d samples, %3d%%\" % \n",
    "      (mmPrecision,testSamples,100 * (mmPrecision / testSamples)))\n",
    "print(\"centimeter precision = %d of %d samples, %3d%%\" % \n",
    "      (cmPrecision,testSamples,100 * (cmPrecision / testSamples)))\n",
    "print(\"decimeter  precision = %d of %d samples, %3d%%\" % \n",
    "      (dmPrecision,testSamples,100 * (dmPrecision / testSamples)))\n",
    "print(\"meter      precision = %d of %d samples, %3d%%\" % \n",
    "      (mPrecision,testSamples,100  * (mPrecision / testSamples)))\n",
    "print(\"10 meter   precision = %d of %d samples, %3d%%\" % \n",
    "      (m10Precision,testSamples,100* (m10Precision / testSamples)))"
   ]
  },
  {
   "cell_type": "markdown",
   "metadata": {},
   "source": [
    "### Investigate with varying number of antennas"
   ]
  },
  {
   "cell_type": "code",
   "execution_count": 9,
   "metadata": {},
   "outputs": [
    {
     "name": "stdout",
     "output_type": "stream",
     "text": [
      "Number of antennas = 1 \n",
      "RMSE = 1.025 \n",
      "Average error = 0.580 m \n",
      "\n",
      "Number of antennas = 2 \n",
      "RMSE = 0.678 \n",
      "Average error = 0.256 m \n",
      "\n",
      "Number of antennas = 4 \n",
      "RMSE = 0.311 \n",
      "Average error = 0.061 m \n",
      "\n",
      "Number of antennas = 8 \n",
      "RMSE = 0.193 \n",
      "Average error = 0.032 m \n",
      "\n",
      "Number of antennas = 16 \n",
      "RMSE = 0.161 \n",
      "Average error = 0.024 m \n",
      "\n"
     ]
    }
   ],
   "source": [
    "numberOfAntennas = [1,2,4,8,16]\n",
    "rmse = np.zeros(shape=(len(numberOfAntennas),))\n",
    "mean_error = np.zeros(shape=(len(numberOfAntennas),))\n",
    "\n",
    "for idx,antenna in enumerate(numberOfAntennas):\n",
    "    X = np.abs(h_Estimated[:,0:antenna])\n",
    "    targetPosCluster = target_pos[:]\n",
    "    X = np.reshape(X,newshape=(X.shape[0],X.shape[1]*X.shape[2]))\n",
    "    \n",
    "    X_train, X_test, y_train, y_test = train_test_split(\n",
    "        X, targetPosCluster, test_size=0.1, random_state=0)\n",
    "    neigh.fit(X_train, y_train)\n",
    "    y_pred = neigh.predict(X_test)\n",
    "    diff   = true_dist(y_pred, y_test)\n",
    "    rmse[idx]       = np.sqrt(np.mean(diff**2))\n",
    "    mean_error[idx] = np.mean(diff)\n",
    "    print(\"Number of antennas = %d \" % antenna)\n",
    "    print(\"RMSE = %.3f \" % rmse[idx])\n",
    "    print(\"Average error = %.3f m \\n\" % np.mean(diff))"
   ]
  },
  {
   "cell_type": "code",
   "execution_count": 10,
   "metadata": {},
   "outputs": [
    {
     "data": {
      "image/png": "[encoded data removed]",
      "text/plain": [
       "<Figure size 432x288 with 1 Axes>"
      ]
     },
     "metadata": {},
     "output_type": "display_data"
    }
   ],
   "source": [
    "fig, ax = plt.subplots()\n",
    "ax.plot(numberOfAntennas,rmse)\n",
    "\n",
    "for i, txt in enumerate(rmse):\n",
    "    ax.annotate(\"%.3f\" % rmse[i], (numberOfAntennas[i],rmse[i]))\n",
    "ax.set_xlabel('Number of Antennas')\n",
    "ax.set_ylabel('RMSE')\n",
    "plt.savefig('rmse_antennas')\n"
   ]
  },
  {
   "cell_type": "code",
   "execution_count": 11,
   "metadata": {},
   "outputs": [
    {
     "data": {
      "image/png": "[encoded data removed]",
      "text/plain": [
       "<Figure size 432x288 with 1 Axes>"
      ]
     },
     "metadata": {},
     "output_type": "display_data"
    }
   ],
   "source": [
    "fig, ax = plt.subplots()\n",
    "ax.plot(numberOfAntennas,mean_error)\n",
    "\n",
    "for i, txt in enumerate(mean_error):\n",
    "    ax.annotate(\"%.3f m\" % mean_error[i], (numberOfAntennas[i],mean_error[i]))\n",
    "ax.set_xlabel('Number of Antennas')\n",
    "ax.set_ylabel('Average distance error [m]')\n",
    "plt.savefig('average_error_antennas')\n"
   ]
  }
 ],
 "metadata": {
  "kernelspec": {
   "display_name": "Python 3",
   "language": "python",
   "name": "python3"
  },
  "language_info": {
   "codemirror_mode": {
    "name": "ipython",
    "version": 3
   },
   "file_extension": ".py",
   "mimetype": "text/x-python",
   "name": "python",
   "nbconvert_exporter": "python",
   "pygments_lexer": "ipython3",
   "version": "3.6.8"
  }
 },
 "nbformat": 4,
 "nbformat_minor": 1
}
